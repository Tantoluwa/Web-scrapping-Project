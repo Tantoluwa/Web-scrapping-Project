{
 "cells": [
  {
   "cell_type": "code",
   "execution_count": 31,
   "id": "dba0efed",
   "metadata": {},
   "outputs": [],
   "source": [
    "import requests\n",
    "from bs4 import BeautifulSoup\n",
    "import pandas as pd"
   ]
  },
  {
   "cell_type": "code",
   "execution_count": 32,
   "id": "32256904",
   "metadata": {},
   "outputs": [],
   "source": [
    "# Define the URL of the search page"
   ]
  },
  {
   "cell_type": "code",
   "execution_count": 33,
   "id": "8d632a91",
   "metadata": {},
   "outputs": [],
   "source": [
    "url = \"https://www.yellowpages.ca/search/si/1/Painting+Contractors/Woodstock+ON\""
   ]
  },
  {
   "cell_type": "code",
   "execution_count": 34,
   "id": "8e26d3c2",
   "metadata": {},
   "outputs": [],
   "source": [
    "# Send a GET request to the URL"
   ]
  },
  {
   "cell_type": "code",
   "execution_count": 35,
   "id": "bcb77527",
   "metadata": {},
   "outputs": [],
   "source": [
    "response = requests.get(url)"
   ]
  },
  {
   "cell_type": "code",
   "execution_count": 36,
   "id": "56793e23",
   "metadata": {},
   "outputs": [],
   "source": [
    "# Check the response status"
   ]
  },
  {
   "cell_type": "code",
   "execution_count": 37,
   "id": "6f5e0083",
   "metadata": {},
   "outputs": [
    {
     "name": "stdout",
     "output_type": "stream",
     "text": [
      "Request was successful!\n"
     ]
    }
   ],
   "source": [
    "if response.status_code == 200:\n",
    "    print(\"Request was successful!\")\n",
    "elif response.status_code == 404:\n",
    "    print(\"Page not found!\")\n",
    "else:\n",
    "    print(\"An error occurred. Status code:\", response.status_code)"
   ]
  },
  {
   "cell_type": "code",
   "execution_count": 38,
   "id": "6206e52b",
   "metadata": {},
   "outputs": [],
   "source": [
    "# Parse the HTML content using BeautifulSoup"
   ]
  },
  {
   "cell_type": "code",
   "execution_count": 39,
   "id": "cd491b2d",
   "metadata": {},
   "outputs": [],
   "source": [
    "soup = BeautifulSoup(response.content, 'html.parser')"
   ]
  },
  {
   "cell_type": "code",
   "execution_count": 40,
   "id": "784405c8",
   "metadata": {},
   "outputs": [],
   "source": [
    "# Find the relevant elements containing painting information"
   ]
  },
  {
   "cell_type": "code",
   "execution_count": 42,
   "id": "f05b70a6",
   "metadata": {},
   "outputs": [],
   "source": [
    "painting_listings = soup.find_all('div', class_='listing__name--link')"
   ]
  },
  {
   "cell_type": "code",
   "execution_count": 43,
   "id": "27536d0d",
   "metadata": {},
   "outputs": [],
   "source": [
    "# Create empty lists to store the extracted data"
   ]
  },
  {
   "cell_type": "code",
   "execution_count": 44,
   "id": "6195c6a9",
   "metadata": {},
   "outputs": [],
   "source": [
    "names = []\n",
    "contact_infos = []"
   ]
  },
  {
   "cell_type": "code",
   "execution_count": 45,
   "id": "f3c376da",
   "metadata": {},
   "outputs": [],
   "source": [
    "# Iterate over the electricians list and extract the desired information"
   ]
  },
  {
   "cell_type": "code",
   "execution_count": 47,
   "id": "c9ca79e2",
   "metadata": {},
   "outputs": [],
   "source": [
    "for listing in painting_listings:\n",
    "    name = listing.text.strip()\n",
    "    contact_info = listing.find_next('div', class_='mlr__details').text.strip()\n",
    "    names.append(name)\n",
    "    contact_infos.append(contact_info)"
   ]
  },
  {
   "cell_type": "code",
   "execution_count": 48,
   "id": "189b948b",
   "metadata": {},
   "outputs": [],
   "source": [
    "# Create a Pandas DataFrame using the extracted data"
   ]
  },
  {
   "cell_type": "code",
   "execution_count": 49,
   "id": "6bdafae0",
   "metadata": {},
   "outputs": [],
   "source": [
    "data = {\n",
    "    'Name': names,\n",
    "    'Contact Info': contact_infos\n",
    "}\n",
    "df = pd.DataFrame(data)"
   ]
  },
  {
   "cell_type": "code",
   "execution_count": 50,
   "id": "eff79ba5",
   "metadata": {},
   "outputs": [],
   "source": [
    "# Save the DataFrame to an Excel file"
   ]
  },
  {
   "cell_type": "code",
   "execution_count": 51,
   "id": "a9f8a851",
   "metadata": {},
   "outputs": [],
   "source": [
    "df.to_excel('painters_data.xlsx', index=False)"
   ]
  },
  {
   "cell_type": "code",
   "execution_count": 52,
   "id": "dbac6e21",
   "metadata": {},
   "outputs": [
    {
     "name": "stdout",
     "output_type": "stream",
     "text": [
      "Data extracted and saved to painters_data.xlsx\n"
     ]
    }
   ],
   "source": [
    "print(\"Data extracted and saved to painters_data.xlsx\")"
   ]
  },
  {
   "cell_type": "code",
   "execution_count": 54,
   "id": "a92e1d12",
   "metadata": {},
   "outputs": [
    {
     "name": "stdout",
     "output_type": "stream",
     "text": [
      "Empty DataFrame\n",
      "Columns: [Name, Contact Info]\n",
      "Index: []\n"
     ]
    }
   ],
   "source": [
    "print(df.head())"
   ]
  },
  {
   "cell_type": "code",
   "execution_count": null,
   "id": "d4d32076",
   "metadata": {},
   "outputs": [],
   "source": []
  }
 ],
 "metadata": {
  "kernelspec": {
   "display_name": "Python 3",
   "language": "python",
   "name": "python3"
  },
  "language_info": {
   "codemirror_mode": {
    "name": "ipython",
    "version": 3
   },
   "file_extension": ".py",
   "mimetype": "text/x-python",
   "name": "python",
   "nbconvert_exporter": "python",
   "pygments_lexer": "ipython3",
   "version": "3.8.8"
  }
 },
 "nbformat": 4,
 "nbformat_minor": 5
}
